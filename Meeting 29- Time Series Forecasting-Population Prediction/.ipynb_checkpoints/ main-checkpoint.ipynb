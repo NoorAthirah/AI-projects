{
 "cells": [
  {
   "cell_type": "code",
   "execution_count": null,
   "id": "4f5f24ab-dc38-4ec5-b4f0-e6fd0ae0220b",
   "metadata": {},
   "outputs": [],
   "source": []
  }
 ],
 "metadata": {
  "kernelspec": {
   "display_name": "Python 3 (ipykernel)",
   "language": "python",
   "name": "python3"
  },
  "language_info": {
   "name": ""
  }
 },
 "nbformat": 4,
 "nbformat_minor": 5
}
